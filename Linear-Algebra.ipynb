{
  "nbformat": 4,
  "nbformat_minor": 0,
  "metadata": {
    "colab": {
      "provenance": []
    },
    "kernelspec": {
      "name": "python3",
      "display_name": "Python 3"
    },
    "language_info": {
      "name": "python"
    }
  },
  "cells": [
    {
      "cell_type": "code",
      "metadata": {
        "id": "RSQKYNaac7PL"
      },
      "source": [
        "import numpy as np\n",
        "import numpy.linalg as npl\n",
        "import pandas as pd\n",
        "import sympy\n",
        "from sympy import *\n",
        "from IPython.core.interactiveshell import InteractiveShell"
      ],
      "execution_count": null,
      "outputs": []
    },
    {
      "cell_type": "code",
      "metadata": {
        "id": "qjuO2MGjCJeM"
      },
      "source": [
        "InteractiveShell.ast_node_interactivity = \"all\""
      ],
      "execution_count": null,
      "outputs": []
    },
    {
      "cell_type": "markdown",
      "metadata": {
        "id": "68u4qmzqArFZ"
      },
      "source": [
        "### 2.5 a"
      ]
    },
    {
      "cell_type": "code",
      "metadata": {
        "colab": {
          "base_uri": "https://localhost:8080/",
          "height": 99
        },
        "id": "PynUcGEjibe_",
        "outputId": "b7d43f9f-ff7a-488f-81d6-b3f94672fa57"
      },
      "source": [
        "M = Matrix([[1,1,-1,-1,1],[2,5,-7,-5, -2],[2,-1,1,3,4],[5,2,-4,2,6]])\n",
        "M"
      ],
      "execution_count": null,
      "outputs": [
        {
          "output_type": "execute_result",
          "data": {
            "text/latex": "$\\displaystyle \\left[\\begin{matrix}1 & 1 & -1 & -1 & 1\\\\2 & 5 & -7 & -5 & -2\\\\2 & -1 & 1 & 3 & 4\\\\5 & 2 & -4 & 2 & 6\\end{matrix}\\right]$",
            "text/plain": [
              "Matrix([\n",
              "[1,  1, -1, -1,  1],\n",
              "[2,  5, -7, -5, -2],\n",
              "[2, -1,  1,  3,  4],\n",
              "[5,  2, -4,  2,  6]])"
            ]
          },
          "metadata": {},
          "execution_count": 3
        }
      ]
    },
    {
      "cell_type": "code",
      "metadata": {
        "colab": {
          "base_uri": "https://localhost:8080/"
        },
        "id": "58U39Ox4__5t",
        "outputId": "fd36ee29-8e3e-4b45-dc11-7c56fd26f7d7"
      },
      "source": [
        "M_rref = M.rref()\n",
        "M_rref"
      ],
      "execution_count": null,
      "outputs": [
        {
          "output_type": "execute_result",
          "data": {
            "text/plain": [
              "(Matrix([\n",
              " [1, 0, 0,  2/3, 0],\n",
              " [0, 1, 0, -8/3, 0],\n",
              " [0, 0, 1,   -1, 0],\n",
              " [0, 0, 0,    0, 1]]), (0, 1, 2, 4))"
            ]
          },
          "metadata": {},
          "execution_count": 4
        }
      ]
    },
    {
      "cell_type": "markdown",
      "metadata": {
        "id": "7wZsoYYoBfIw"
      },
      "source": [
        "This is the RREF of the augmented matrix and shows that there is no solution to the linear system."
      ]
    },
    {
      "cell_type": "markdown",
      "metadata": {
        "id": "NHSwJVddBOol"
      },
      "source": [
        "### 2.5 b"
      ]
    },
    {
      "cell_type": "code",
      "metadata": {
        "colab": {
          "base_uri": "https://localhost:8080/"
        },
        "id": "_ge0GdRD6HI8",
        "outputId": "fb485235-d6a7-4c57-dbb1-a554d9ef56ba"
      },
      "source": [
        "mat=Matrix([[1,-1,0,0,1,3],[1,1,0,-3,0,6],[2,-1,0,1,-1,5],[-1,2,0,-2,-1,-1]])\n",
        "mat.rref()"
      ],
      "execution_count": null,
      "outputs": [
        {
          "output_type": "execute_result",
          "data": {
            "text/plain": [
              "(Matrix([\n",
              " [1, 0, 0, 0, -1,  3],\n",
              " [0, 1, 0, 0, -2,  0],\n",
              " [0, 0, 0, 1, -1, -1],\n",
              " [0, 0, 0, 0,  0,  0]]), (0, 1, 3))"
            ]
          },
          "metadata": {},
          "execution_count": 5
        }
      ]
    },
    {
      "cell_type": "markdown",
      "metadata": {
        "id": "fZcdPCP58RFL"
      },
      "source": [
        "Thus the solution set is p + nul(A) = p + span(h1,h2). p=[3,0,-1,0]^T, the final column of the RREF of the augmented matrix. h1 = column 3 of the minus 1 extended coefficient matrix, h2 column 5 of the minus 1 extended coefficient matrix (the columns corresponding to the free variables). h1 = [0,0,-1,0,0]^T h2 = [-1, -2,0,-1,-1]^T"
      ]
    },
    {
      "cell_type": "markdown",
      "metadata": {
        "id": "iwiO3v608XwH"
      },
      "source": [
        "### 2.6"
      ]
    },
    {
      "cell_type": "code",
      "metadata": {
        "colab": {
          "base_uri": "https://localhost:8080/"
        },
        "id": "HFlam7_I8uvS",
        "outputId": "f16dd161-f196-4ca1-9a91-949ed0857859"
      },
      "source": [
        "mat=Matrix([[0,1,0,0,1,0,2],[0,0,0,1,1,0,-1],[0,1,0,0,0,1,1]])\n",
        "mat.rref()"
      ],
      "execution_count": null,
      "outputs": [
        {
          "output_type": "execute_result",
          "data": {
            "text/plain": [
              "(Matrix([\n",
              " [0, 1, 0, 0, 0,  1,  1],\n",
              " [0, 0, 0, 1, 0,  1, -2],\n",
              " [0, 0, 0, 0, 1, -1,  1]]), (1, 3, 4))"
            ]
          },
          "metadata": {},
          "execution_count": 7
        }
      ]
    },
    {
      "cell_type": "markdown",
      "metadata": {
        "id": "pRwpvmRJ-Pop"
      },
      "source": [
        "This is the RREF of the augmented matrix which shows the solution which is the last column of the augmented matrix p=[1,-2,1]^T"
      ]
    },
    {
      "cell_type": "markdown",
      "metadata": {
        "id": "0pxLKIce300e"
      },
      "source": [
        "## 2.8 a"
      ]
    },
    {
      "cell_type": "code",
      "metadata": {
        "id": "S-QLsjzC36hP",
        "colab": {
          "base_uri": "https://localhost:8080/"
        },
        "outputId": "9a2c542d-387e-4a95-a6c2-e90e0e152f1e"
      },
      "source": [
        "mat=Matrix([[2,3,4],[3,4,5],[4,5,6]])\n",
        "mat.rref()"
      ],
      "execution_count": null,
      "outputs": [
        {
          "output_type": "execute_result",
          "data": {
            "text/plain": [
              "(Matrix([\n",
              " [1, 0, -1],\n",
              " [0, 1,  2],\n",
              " [0, 0,  0]]), (0, 1))"
            ]
          },
          "metadata": {},
          "execution_count": 8
        }
      ]
    },
    {
      "cell_type": "markdown",
      "metadata": {
        "id": "ojVKE9Z3_0PY"
      },
      "source": [
        "Since the matrix does not row reduce down to the identity matrix, then it is not invertible"
      ]
    },
    {
      "cell_type": "markdown",
      "metadata": {
        "id": "GImLqdy2ATNm"
      },
      "source": [
        "### 2.8 b"
      ]
    },
    {
      "cell_type": "code",
      "metadata": {
        "colab": {
          "base_uri": "https://localhost:8080/",
          "height": 185
        },
        "id": "omi3DmMBAZUq",
        "outputId": "86937d9a-8472-48c5-ff54-9a0b106fe840"
      },
      "source": [
        "mat=Matrix([[1,0,1,0],[0,1,1,0],[1,1,0,1],[1,1,1,0]])\n",
        "mat.inv()\n",
        "mat.rref()"
      ],
      "execution_count": null,
      "outputs": [
        {
          "output_type": "execute_result",
          "data": {
            "text/latex": "$\\displaystyle \\left[\\begin{matrix}0 & -1 & 0 & 1\\\\-1 & 0 & 0 & 1\\\\1 & 1 & 0 & -1\\\\1 & 1 & 1 & -2\\end{matrix}\\right]$",
            "text/plain": [
              "Matrix([\n",
              "[ 0, -1, 0,  1],\n",
              "[-1,  0, 0,  1],\n",
              "[ 1,  1, 0, -1],\n",
              "[ 1,  1, 1, -2]])"
            ]
          },
          "metadata": {},
          "execution_count": 15
        },
        {
          "output_type": "execute_result",
          "data": {
            "text/plain": [
              "(Matrix([\n",
              " [1, 0, 0, 0],\n",
              " [0, 1, 0, 0],\n",
              " [0, 0, 1, 0],\n",
              " [0, 0, 0, 1]]), (0, 1, 2, 3))"
            ]
          },
          "metadata": {},
          "execution_count": 15
        }
      ]
    },
    {
      "cell_type": "markdown",
      "metadata": {
        "id": "Pq67VWFKCN25"
      },
      "source": [
        "The matrix is invertible because simpy returns an inverse and the matrix row reduces into the identity matrix. So this matrix is invertible."
      ]
    },
    {
      "cell_type": "markdown",
      "metadata": {
        "id": "opEkb4Yj7VMf"
      },
      "source": [
        "### 2.10 a"
      ]
    },
    {
      "cell_type": "code",
      "metadata": {
        "id": "GIuoSRmM7fB7",
        "colab": {
          "base_uri": "https://localhost:8080/",
          "height": 147
        },
        "outputId": "adcf9e7c-ef70-48ac-dd1f-dee71a4c3b18"
      },
      "source": [
        "mat=Matrix([[2,-1,3],[1,1,-2],[3,-3,8]])\n",
        "mat.transpose()\n",
        "(mat.transpose()).rref()"
      ],
      "execution_count": null,
      "outputs": [
        {
          "output_type": "execute_result",
          "data": {
            "text/latex": "$\\displaystyle \\left[\\begin{matrix}2 & 1 & 3\\\\-1 & 1 & -3\\\\3 & -2 & 8\\end{matrix}\\right]$",
            "text/plain": [
              "Matrix([\n",
              "[ 2,  1,  3],\n",
              "[-1,  1, -3],\n",
              "[ 3, -2,  8]])"
            ]
          },
          "metadata": {},
          "execution_count": 6
        },
        {
          "output_type": "execute_result",
          "data": {
            "text/plain": [
              "(Matrix([\n",
              " [1, 0,  2],\n",
              " [0, 1, -1],\n",
              " [0, 0,  0]]), (0, 1))"
            ]
          },
          "metadata": {},
          "execution_count": 6
        }
      ]
    },
    {
      "cell_type": "markdown",
      "metadata": {
        "id": "O9-pmiCRmqtK"
      },
      "source": [
        "The RREF of the matrix has 2 pivot points out of the 3 total columns which shows that the set of vectors are linearly dependent"
      ]
    },
    {
      "cell_type": "markdown",
      "metadata": {
        "id": "mH905IZSldX9"
      },
      "source": [
        "### 2.10 b"
      ]
    },
    {
      "cell_type": "code",
      "metadata": {
        "colab": {
          "base_uri": "https://localhost:8080/",
          "height": 223
        },
        "id": "eehNSFLTlk4Q",
        "outputId": "6b1868da-0631-49d0-ec74-2f6315c1b684"
      },
      "source": [
        "mat=Matrix([[1,2,1,0,0],[1,1,0,1,1],[1,0,0,1,1]])\n",
        "mat.transpose()\n",
        "(mat.transpose()).rref()"
      ],
      "execution_count": null,
      "outputs": [
        {
          "output_type": "execute_result",
          "data": {
            "text/latex": "$\\displaystyle \\left[\\begin{matrix}1 & 1 & 1\\\\2 & 1 & 0\\\\1 & 0 & 0\\\\0 & 1 & 1\\\\0 & 1 & 1\\end{matrix}\\right]$",
            "text/plain": [
              "Matrix([\n",
              "[1, 1, 1],\n",
              "[2, 1, 0],\n",
              "[1, 0, 0],\n",
              "[0, 1, 1],\n",
              "[0, 1, 1]])"
            ]
          },
          "metadata": {},
          "execution_count": 5
        },
        {
          "output_type": "execute_result",
          "data": {
            "text/plain": [
              "(Matrix([\n",
              " [1, 0, 0],\n",
              " [0, 1, 0],\n",
              " [0, 0, 1],\n",
              " [0, 0, 0],\n",
              " [0, 0, 0]]), (0, 1, 2))"
            ]
          },
          "metadata": {},
          "execution_count": 5
        }
      ]
    },
    {
      "cell_type": "markdown",
      "metadata": {
        "id": "ZKEJ983plxmS"
      },
      "source": [
        "The RREF of the matrix shows that there is a pivot in every column, so it shows that the set of vectors is linearly independent\n",
        "\n"
      ]
    },
    {
      "cell_type": "markdown",
      "metadata": {
        "id": "aFVPrkQ47gFQ"
      },
      "source": [
        "### 2.17"
      ]
    },
    {
      "cell_type": "code",
      "metadata": {
        "colab": {
          "base_uri": "https://localhost:8080/"
        },
        "id": "Dq8zFIkPCjXR",
        "outputId": "82cc0dc5-17bb-4421-e439-670e0a413294"
      },
      "source": [
        "mat=Matrix([[3,2,1],[1,1,1],[1,0,-3],[2,3,1]])\n",
        "mat.rank()\n",
        "mat.rref()"
      ],
      "execution_count": null,
      "outputs": [
        {
          "output_type": "execute_result",
          "data": {
            "text/plain": [
              "3"
            ]
          },
          "metadata": {},
          "execution_count": 4
        },
        {
          "output_type": "execute_result",
          "data": {
            "text/plain": [
              "(Matrix([\n",
              " [1, 0, 0],\n",
              " [0, 1, 0],\n",
              " [0, 0, 1],\n",
              " [0, 0, 0]]), (0, 1, 2))"
            ]
          },
          "metadata": {},
          "execution_count": 4
        }
      ]
    },
    {
      "cell_type": "markdown",
      "metadata": {
        "id": "Tq0NlViIDIPW"
      },
      "source": [
        "The rank function says that the rank is 3. Likewise the RREF has 3 pivots which also tells us the rank is 3.The kernel of the transformation is the null space of the matrix of the linear transformation. There are no free variables so the linear transformation has kernel = {0}. This is also equivalent to the linear transformation being one-to-one or injective. dim of the image of a linear transformation is the rank of the matrix of the linear transformation, so is 3."
      ]
    },
    {
      "cell_type": "markdown",
      "metadata": {
        "id": "FOdbfgsrA939"
      },
      "source": [
        "### 2.19"
      ]
    },
    {
      "cell_type": "code",
      "metadata": {
        "colab": {
          "base_uri": "https://localhost:8080/",
          "height": 79
        },
        "id": "1sNfZ0SOAtIh",
        "outputId": "2a4abcc0-01ff-4e2e-9d20-764c067bad77"
      },
      "source": [
        "B=Matrix([[1,1,1],[1,2,1],[1,0,0]]).transpose()\n",
        "A=Matrix([[1,1,0],[1,-1,0],[1,1,1]])\n",
        "B.inv()*A*B"
      ],
      "execution_count": null,
      "outputs": [
        {
          "output_type": "execute_result",
          "data": {
            "text/latex": "$\\displaystyle \\left[\\begin{matrix}6 & 9 & 1\\\\-3 & -5 & 0\\\\-1 & -1 & 0\\end{matrix}\\right]$",
            "text/plain": [
              "Matrix([\n",
              "[ 6,  9, 1],\n",
              "[-3, -5, 0],\n",
              "[-1, -1, 0]])"
            ]
          },
          "metadata": {},
          "execution_count": 3
        }
      ]
    },
    {
      "cell_type": "markdown",
      "metadata": {
        "id": "peVpmqAGBQdB"
      },
      "source": [
        "Since B is the matrix that transforms from the B basis to the standard basis and A is the matrix of the transformation from the standard basis to the standard basis, B^{-1} A B is the matrix of the linear transformation in the B basis."
      ]
    },
    {
      "cell_type": "markdown",
      "metadata": {
        "id": "02mxIw4VBevt"
      },
      "source": [
        "### 2.20"
      ]
    },
    {
      "cell_type": "markdown",
      "metadata": {
        "id": "EsBbsogv_grM"
      },
      "source": [
        "b)"
      ]
    },
    {
      "cell_type": "code",
      "metadata": {
        "id": "a29hBC8nBihO",
        "colab": {
          "base_uri": "https://localhost:8080/",
          "height": 57
        },
        "outputId": "36a11598-672b-4361-e5d2-d349ef11bfa9"
      },
      "source": [
        "A=Matrix([[2,-1],[1,-1]])\n",
        "B=Matrix([[2,1],[-2,1]])\n",
        "A.inv()*B"
      ],
      "execution_count": null,
      "outputs": [
        {
          "output_type": "execute_result",
          "data": {
            "text/latex": "$\\displaystyle \\left[\\begin{matrix}4 & 0\\\\6 & -1\\end{matrix}\\right]$",
            "text/plain": [
              "Matrix([\n",
              "[4,  0],\n",
              "[6, -1]])"
            ]
          },
          "metadata": {},
          "execution_count": 4
        }
      ]
    },
    {
      "cell_type": "markdown",
      "metadata": {
        "id": "hGhIFNfzJYfO"
      },
      "source": [
        "This is the matrix P1 that preforms the basis change from B' to B."
      ]
    },
    {
      "cell_type": "markdown",
      "metadata": {
        "id": "19GMFyTgBN4F"
      },
      "source": [
        "c)"
      ]
    },
    {
      "cell_type": "code",
      "metadata": {
        "colab": {
          "base_uri": "https://localhost:8080/",
          "height": 37
        },
        "id": "NOgBc6SYBURJ",
        "outputId": "292972f4-e6ee-42d9-eb3b-a9656c78fe83"
      },
      "source": [
        "C=Matrix([[1,0,1],[2,-1,0],[-1,2,-1]])\n",
        "C.det()"
      ],
      "execution_count": null,
      "outputs": [
        {
          "output_type": "execute_result",
          "data": {
            "text/latex": "$\\displaystyle 4$",
            "text/plain": [
              "4"
            ]
          },
          "metadata": {},
          "execution_count": 5
        }
      ]
    },
    {
      "cell_type": "markdown",
      "metadata": {
        "id": "E-feBc-DCkya"
      },
      "source": [
        "The determinant is 4 which is not zero therefore C is a basis of R3."
      ]
    },
    {
      "cell_type": "code",
      "metadata": {
        "colab": {
          "base_uri": "https://localhost:8080/",
          "height": 79
        },
        "id": "Zxgwx-iHC-8r",
        "outputId": "9095d92e-bd8a-4984-da84-db88b56cf123"
      },
      "source": [
        "D=Matrix([[1,0,0],[0,1,0],[0,0,1]])\n",
        "D.inv() * C"
      ],
      "execution_count": null,
      "outputs": [
        {
          "output_type": "execute_result",
          "data": {
            "text/latex": "$\\displaystyle \\left[\\begin{matrix}1 & 0 & 1\\\\2 & -1 & 0\\\\-1 & 2 & -1\\end{matrix}\\right]$",
            "text/plain": [
              "Matrix([\n",
              "[ 1,  0,  1],\n",
              "[ 2, -1,  0],\n",
              "[-1,  2, -1]])"
            ]
          },
          "metadata": {},
          "execution_count": 6
        }
      ]
    },
    {
      "cell_type": "markdown",
      "metadata": {
        "id": "wo-HXYD8IWLE"
      },
      "source": [
        "This is the matrix p2 that preforms the basis change from C to C'"
      ]
    },
    {
      "cell_type": "markdown",
      "metadata": {
        "id": "PFJiDpMDgd2v"
      },
      "source": [
        "F)"
      ]
    },
    {
      "cell_type": "code",
      "metadata": {
        "colab": {
          "base_uri": "https://localhost:8080/",
          "height": 79
        },
        "id": "ysUqeJJ6Io2U",
        "outputId": "e8b1a536-eda4-4753-8d8f-8e8b1af118f2"
      },
      "source": [
        "A=Matrix([[1,0,1],[2,-1,0],[-1,2,-1]])\n",
        "B=Matrix([[1,-1],[0,1],[2,-1]])\n",
        "C=Matrix([[4,0],[6,-1]])\n",
        "V=Matrix([[2],[3]])\n",
        "A*B*C*V"
      ],
      "execution_count": null,
      "outputs": [
        {
          "output_type": "execute_result",
          "data": {
            "text/latex": "$\\displaystyle \\left[\\begin{matrix}6\\\\-11\\\\12\\end{matrix}\\right]$",
            "text/plain": [
              "Matrix([\n",
              "[  6],\n",
              "[-11],\n",
              "[ 12]])"
            ]
          },
          "metadata": {},
          "execution_count": 7
        }
      ]
    },
    {
      "cell_type": "markdown",
      "metadata": {
        "id": "5ZhPt1BEjKec"
      },
      "source": [
        "This is the result of applying various matrix tranformation from B' to C' with the coordinates [2,3]^T"
      ]
    },
    {
      "cell_type": "code",
      "metadata": {
        "colab": {
          "base_uri": "https://localhost:8080/",
          "height": 551
        },
        "id": "rR-IqNr0AMsK",
        "outputId": "c9e83db7-89d8-4ff9-ecfc-3482f57aa6cc"
      },
      "source": [
        "B = Matrix([[0,1,-3,-1],[-1,-3,4,-3],[2,1,1,5],[0,-1,2,0],[2,2,1,7]])\n",
        "B.transpose()\n",
        "B.transpose() * B\n",
        "x = Matrix([[-1],[-9],[-1],[4],[1]])\n",
        "x\n",
        "B.transpose() * x\n",
        "A= Matrix([[0,-1,2,0,2,9],[1,-3,1,-1,2,23],[-3,4,1,2,1,-25],[-1,-3,5,0,7,30]])\n",
        "A.rref()\n",
        "c= Matrix([[-19/6],[-26/3],[1/6],[0]])\n",
        "B *c"
      ],
      "execution_count": null,
      "outputs": [
        {
          "output_type": "execute_result",
          "data": {
            "text/latex": "$\\displaystyle \\left[\\begin{matrix}0 & -1 & 2 & 0 & 2\\\\1 & -3 & 1 & -1 & 2\\\\-3 & 4 & 1 & 2 & 1\\\\-1 & -3 & 5 & 0 & 7\\end{matrix}\\right]$",
            "text/plain": [
              "Matrix([\n",
              "[ 0, -1, 2,  0, 2],\n",
              "[ 1, -3, 1, -1, 2],\n",
              "[-3,  4, 1,  2, 1],\n",
              "[-1, -3, 5,  0, 7]])"
            ]
          },
          "metadata": {},
          "execution_count": 13
        },
        {
          "output_type": "execute_result",
          "data": {
            "text/latex": "$\\displaystyle \\left[\\begin{matrix}9 & 9 & 0 & 27\\\\9 & 16 & -14 & 27\\\\0 & -14 & 31 & 3\\\\27 & 27 & 3 & 84\\end{matrix}\\right]$",
            "text/plain": [
              "Matrix([\n",
              "[ 9,   9,   0, 27],\n",
              "[ 9,  16, -14, 27],\n",
              "[ 0, -14,  31,  3],\n",
              "[27,  27,   3, 84]])"
            ]
          },
          "metadata": {},
          "execution_count": 13
        },
        {
          "output_type": "execute_result",
          "data": {
            "text/latex": "$\\displaystyle \\left[\\begin{matrix}-1\\\\-9\\\\-1\\\\4\\\\1\\end{matrix}\\right]$",
            "text/plain": [
              "Matrix([\n",
              "[-1],\n",
              "[-9],\n",
              "[-1],\n",
              "[ 4],\n",
              "[ 1]])"
            ]
          },
          "metadata": {},
          "execution_count": 13
        },
        {
          "output_type": "execute_result",
          "data": {
            "text/latex": "$\\displaystyle \\left[\\begin{matrix}9\\\\23\\\\-25\\\\30\\end{matrix}\\right]$",
            "text/plain": [
              "Matrix([\n",
              "[  9],\n",
              "[ 23],\n",
              "[-25],\n",
              "[ 30]])"
            ]
          },
          "metadata": {},
          "execution_count": 13
        },
        {
          "output_type": "execute_result",
          "data": {
            "text/plain": [
              "(Matrix([\n",
              " [1, 0, 0, -1/6, -3/2, -19/6],\n",
              " [0, 1, 0,  1/3,   -1, -26/3],\n",
              " [0, 0, 1,  1/6,  1/2,   1/6],\n",
              " [0, 0, 0,    0,    0,     0]]), (0, 1, 2))"
            ]
          },
          "metadata": {},
          "execution_count": 13
        },
        {
          "output_type": "execute_result",
          "data": {
            "text/latex": "$\\displaystyle \\left[\\begin{matrix}-9.16666666666667\\\\29.8333333333333\\\\-14.8333333333333\\\\9.0\\\\-23.5\\end{matrix}\\right]$",
            "text/plain": [
              "Matrix([\n",
              "[-9.16666666666667],\n",
              "[ 29.8333333333333],\n",
              "[-14.8333333333333],\n",
              "[              9.0],\n",
              "[            -23.5]])"
            ]
          },
          "metadata": {},
          "execution_count": 13
        }
      ]
    },
    {
      "cell_type": "code",
      "metadata": {
        "colab": {
          "base_uri": "https://localhost:8080/",
          "height": 79
        },
        "id": "kGy8-PFxIDBe",
        "outputId": "61cbee8e-afe0-4908-9026-3c8db3645bb6"
      },
      "source": [
        "A = Matrix([[0],[5],[4]])\n",
        "b = Matrix([[3],[2],[0]])\n",
        "c = Matrix([[6],[5],[4]])\n",
        "x= A - ((28/13)* b)\n",
        "x"
      ],
      "execution_count": null,
      "outputs": [
        {
          "output_type": "execute_result",
          "data": {
            "text/latex": "$\\displaystyle \\left[\\begin{matrix}-6.46153846153846\\\\0.692307692307693\\\\4\\end{matrix}\\right]$",
            "text/plain": [
              "Matrix([\n",
              "[-6.46153846153846],\n",
              "[0.692307692307693],\n",
              "[                4]])"
            ]
          },
          "metadata": {},
          "execution_count": 19
        }
      ]
    },
    {
      "cell_type": "markdown",
      "metadata": {
        "id": "fF5RP0oBAflL"
      },
      "source": [
        "### Test 1"
      ]
    },
    {
      "cell_type": "markdown",
      "metadata": {
        "id": "SbA2NKO9Am8Q"
      },
      "source": [
        "# 1."
      ]
    },
    {
      "cell_type": "code",
      "metadata": {
        "colab": {
          "base_uri": "https://localhost:8080/",
          "height": 180
        },
        "id": "YW6Ouy0cAqqF",
        "outputId": "4ccf089a-2f24-4f9d-c69a-2948f1460675"
      },
      "source": [
        "#@title\n",
        "A = Matrix([[-1,-1],[8,7]])\n",
        "A\n",
        "B = Matrix([[1,1],[2,1]])\n",
        "B\n",
        "B.inv() * A\n",
        "A.inv() * B"
      ],
      "execution_count": null,
      "outputs": [
        {
          "output_type": "execute_result",
          "data": {
            "text/latex": "$\\displaystyle \\left[\\begin{matrix}-1 & -1\\\\8 & 7\\end{matrix}\\right]$",
            "text/plain": [
              "Matrix([\n",
              "[-1, -1],\n",
              "[ 8,  7]])"
            ]
          },
          "metadata": {},
          "execution_count": 14
        },
        {
          "output_type": "execute_result",
          "data": {
            "text/latex": "$\\displaystyle \\left[\\begin{matrix}1 & 1\\\\2 & 1\\end{matrix}\\right]$",
            "text/plain": [
              "Matrix([\n",
              "[1, 1],\n",
              "[2, 1]])"
            ]
          },
          "metadata": {},
          "execution_count": 14
        },
        {
          "output_type": "execute_result",
          "data": {
            "text/latex": "$\\displaystyle \\left[\\begin{matrix}9 & 8\\\\-10 & -9\\end{matrix}\\right]$",
            "text/plain": [
              "Matrix([\n",
              "[  9,  8],\n",
              "[-10, -9]])"
            ]
          },
          "metadata": {},
          "execution_count": 14
        },
        {
          "output_type": "execute_result",
          "data": {
            "text/latex": "$\\displaystyle \\left[\\begin{matrix}9 & 8\\\\-10 & -9\\end{matrix}\\right]$",
            "text/plain": [
              "Matrix([\n",
              "[  9,  8],\n",
              "[-10, -9]])"
            ]
          },
          "metadata": {},
          "execution_count": 14
        }
      ]
    },
    {
      "cell_type": "markdown",
      "metadata": {
        "id": "UDQ6cJlJ6EqG"
      },
      "source": [
        "# 2."
      ]
    },
    {
      "cell_type": "code",
      "metadata": {
        "colab": {
          "base_uri": "https://localhost:8080/",
          "height": 282
        },
        "id": "2Lfranmp6IDM",
        "outputId": "112e19b7-86d0-4297-ff83-ea9cbb36d538"
      },
      "source": [
        "A= Matrix([[1,-2],[1,0],[0,1]])\n",
        "A\n",
        "B = A.transpose() * A\n",
        "B\n",
        "B = B.inv()\n",
        "B\n",
        "p= A * B\n",
        "p\n",
        "p = p * A.transpose()\n",
        "p"
      ],
      "execution_count": null,
      "outputs": [
        {
          "output_type": "execute_result",
          "data": {
            "text/latex": "$\\displaystyle \\left[\\begin{matrix}1 & -2\\\\1 & 0\\\\0 & 1\\end{matrix}\\right]$",
            "text/plain": [
              "Matrix([\n",
              "[1, -2],\n",
              "[1,  0],\n",
              "[0,  1]])"
            ]
          },
          "metadata": {},
          "execution_count": 13
        },
        {
          "output_type": "execute_result",
          "data": {
            "text/latex": "$\\displaystyle \\left[\\begin{matrix}2 & -2\\\\-2 & 5\\end{matrix}\\right]$",
            "text/plain": [
              "Matrix([\n",
              "[ 2, -2],\n",
              "[-2,  5]])"
            ]
          },
          "metadata": {},
          "execution_count": 13
        },
        {
          "output_type": "execute_result",
          "data": {
            "text/latex": "$\\displaystyle \\left[\\begin{matrix}\\frac{5}{6} & \\frac{1}{3}\\\\\\frac{1}{3} & \\frac{1}{3}\\end{matrix}\\right]$",
            "text/plain": [
              "Matrix([\n",
              "[5/6, 1/3],\n",
              "[1/3, 1/3]])"
            ]
          },
          "metadata": {},
          "execution_count": 13
        },
        {
          "output_type": "execute_result",
          "data": {
            "text/latex": "$\\displaystyle \\left[\\begin{matrix}\\frac{1}{6} & - \\frac{1}{3}\\\\\\frac{5}{6} & \\frac{1}{3}\\\\\\frac{1}{3} & \\frac{1}{3}\\end{matrix}\\right]$",
            "text/plain": [
              "Matrix([\n",
              "[1/6, -1/3],\n",
              "[5/6,  1/3],\n",
              "[1/3,  1/3]])"
            ]
          },
          "metadata": {},
          "execution_count": 13
        },
        {
          "output_type": "execute_result",
          "data": {
            "text/latex": "$\\displaystyle \\left[\\begin{matrix}\\frac{5}{6} & \\frac{1}{6} & - \\frac{1}{3}\\\\\\frac{1}{6} & \\frac{5}{6} & \\frac{1}{3}\\\\- \\frac{1}{3} & \\frac{1}{3} & \\frac{1}{3}\\end{matrix}\\right]$",
            "text/plain": [
              "Matrix([\n",
              "[ 5/6, 1/6, -1/3],\n",
              "[ 1/6, 5/6,  1/3],\n",
              "[-1/3, 1/3,  1/3]])"
            ]
          },
          "metadata": {},
          "execution_count": 13
        }
      ]
    },
    {
      "cell_type": "code",
      "metadata": {
        "colab": {
          "base_uri": "https://localhost:8080/",
          "height": 248
        },
        "id": "4BwXd9l0LH_P",
        "outputId": "246830de-8e3f-4215-ec3c-419d65f20e79"
      },
      "source": [
        "A = Matrix([[0,1,1],[1,0,1],[1,1,0]])\n",
        "A\n",
        "A.eigenvals()\n",
        "A.eigenvects()\n"
      ],
      "execution_count": null,
      "outputs": [
        {
          "output_type": "execute_result",
          "data": {
            "text/latex": "$\\displaystyle \\left[\\begin{matrix}0 & 1 & 1\\\\1 & 0 & 1\\\\1 & 1 & 0\\end{matrix}\\right]$",
            "text/plain": [
              "Matrix([\n",
              "[0, 1, 1],\n",
              "[1, 0, 1],\n",
              "[1, 1, 0]])"
            ]
          },
          "metadata": {},
          "execution_count": 8
        },
        {
          "output_type": "execute_result",
          "data": {
            "text/plain": [
              "{-1: 2, 2: 1}"
            ]
          },
          "metadata": {},
          "execution_count": 8
        },
        {
          "output_type": "execute_result",
          "data": {
            "text/plain": [
              "[(-1, 2, [Matrix([\n",
              "   [-1],\n",
              "   [ 1],\n",
              "   [ 0]]), Matrix([\n",
              "   [-1],\n",
              "   [ 0],\n",
              "   [ 1]])]), (2, 1, [Matrix([\n",
              "   [1],\n",
              "   [1],\n",
              "   [1]])])]"
            ]
          },
          "metadata": {},
          "execution_count": 8
        }
      ]
    },
    {
      "cell_type": "markdown",
      "metadata": {
        "id": "nJjOuKy8EUaV"
      },
      "source": [
        "# 3"
      ]
    },
    {
      "cell_type": "code",
      "metadata": {
        "colab": {
          "base_uri": "https://localhost:8080/",
          "height": 377
        },
        "id": "rgFDPh1hAWMX",
        "outputId": "4429eb4e-d77d-4484-d35b-bea2f614e531"
      },
      "source": [
        "U = Matrix([[-2],[1],[1],[0]])\n",
        "V= Matrix([[0],[0],[-1],[1]])\n",
        "A = (V.dot(U))/(U.dot(U))\n",
        "A\n",
        "W = V - (A * U)\n",
        "W\n",
        "U.dot(W)\n",
        "U.normalized()\n",
        "W.norm()\n",
        "W.normalized()"
      ],
      "execution_count": null,
      "outputs": [
        {
          "output_type": "execute_result",
          "data": {
            "text/latex": "$\\displaystyle - \\frac{1}{6}$",
            "text/plain": [
              "-1/6"
            ]
          },
          "metadata": {},
          "execution_count": 44
        },
        {
          "output_type": "execute_result",
          "data": {
            "text/latex": "$\\displaystyle \\left[\\begin{matrix}- \\frac{1}{3}\\\\\\frac{1}{6}\\\\- \\frac{5}{6}\\\\1\\end{matrix}\\right]$",
            "text/plain": [
              "Matrix([\n",
              "[-1/3],\n",
              "[ 1/6],\n",
              "[-5/6],\n",
              "[   1]])"
            ]
          },
          "metadata": {},
          "execution_count": 44
        },
        {
          "output_type": "execute_result",
          "data": {
            "text/latex": "$\\displaystyle 0$",
            "text/plain": [
              "0"
            ]
          },
          "metadata": {},
          "execution_count": 44
        },
        {
          "output_type": "execute_result",
          "data": {
            "text/latex": "$\\displaystyle \\left[\\begin{matrix}- \\frac{\\sqrt{6}}{3}\\\\\\frac{\\sqrt{6}}{6}\\\\\\frac{\\sqrt{6}}{6}\\\\0\\end{matrix}\\right]$",
            "text/plain": [
              "Matrix([\n",
              "[-sqrt(6)/3],\n",
              "[ sqrt(6)/6],\n",
              "[ sqrt(6)/6],\n",
              "[         0]])"
            ]
          },
          "metadata": {},
          "execution_count": 44
        },
        {
          "output_type": "execute_result",
          "data": {
            "text/latex": "$\\displaystyle \\frac{\\sqrt{66}}{6}$",
            "text/plain": [
              "sqrt(66)/6"
            ]
          },
          "metadata": {},
          "execution_count": 44
        },
        {
          "output_type": "execute_result",
          "data": {
            "text/latex": "$\\displaystyle \\left[\\begin{matrix}- \\frac{\\sqrt{66}}{33}\\\\\\frac{\\sqrt{66}}{66}\\\\- \\frac{5 \\sqrt{66}}{66}\\\\\\frac{\\sqrt{66}}{11}\\end{matrix}\\right]$",
            "text/plain": [
              "Matrix([\n",
              "[  -sqrt(66)/33],\n",
              "[   sqrt(66)/66],\n",
              "[-5*sqrt(66)/66],\n",
              "[   sqrt(66)/11]])"
            ]
          },
          "metadata": {},
          "execution_count": 44
        }
      ]
    },
    {
      "cell_type": "code",
      "metadata": {
        "colab": {
          "base_uri": "https://localhost:8080/"
        },
        "id": "qO0xwFPYXIvJ",
        "outputId": "094bdd71-ee21-4f2d-89a3-28364219c275"
      },
      "source": [
        " A = Matrix([[-2,0,2,0],[0,-4,-2,0],[2,-2,-3,0]])\n",
        " A.rref()"
      ],
      "execution_count": null,
      "outputs": [
        {
          "output_type": "execute_result",
          "data": {
            "text/plain": [
              "(Matrix([\n",
              " [1, 0,  -1, 0],\n",
              " [0, 1, 1/2, 0],\n",
              " [0, 0,   0, 0]]), (0, 1))"
            ]
          },
          "metadata": {},
          "execution_count": 8
        }
      ]
    },
    {
      "cell_type": "markdown",
      "metadata": {
        "id": "QOlNcjG0MJLE"
      },
      "source": [
        "# 4"
      ]
    },
    {
      "cell_type": "code",
      "metadata": {
        "colab": {
          "base_uri": "https://localhost:8080/",
          "height": 812
        },
        "id": "kpNfnWFHEWee",
        "outputId": "6f6a6a25-e8c7-44d0-c84b-fd470e7c4b6b"
      },
      "source": [
        "A = Matrix([[1,0,2],[0,-1,-2],[2,-2,0]])\n",
        "A\n",
        "A.eigenvals()\n",
        "A.eigenvects()\n",
        "V1 = Matrix([[1],[-1/2],[1]])\n",
        "V1\n",
        "V2 = Matrix([[-2],[-2],[1]])\n",
        "V2\n",
        "V3= Matrix([[-1/2],[1],[1]])\n",
        "V3\n",
        "V1.dot(V2)\n",
        "V1.dot(V3)\n",
        "V2.dot(V1)\n",
        "V2.dot(V3)\n",
        "V3.dot(V1)\n",
        "V3.dot(V2)\n",
        "V1.normalized()\n",
        "V2.normalized()\n",
        "V3.normalized()\n",
        "P = Matrix([[(2/3),(-2/3),(-1/3)],[-1/3,-2/3,2/3],[2/3,1/3,2/3]])\n",
        "B= P.inv()\n",
        "C= P.transpose()\n",
        "if C == B:\n",
        "  print(\"Yes\")\n",
        "B * A *  P"
      ],
      "execution_count": null,
      "outputs": [
        {
          "output_type": "execute_result",
          "data": {
            "text/latex": "$\\displaystyle \\left[\\begin{matrix}1 & 0 & 2\\\\0 & -1 & -2\\\\2 & -2 & 0\\end{matrix}\\right]$",
            "text/plain": [
              "Matrix([\n",
              "[1,  0,  2],\n",
              "[0, -1, -2],\n",
              "[2, -2,  0]])"
            ]
          },
          "metadata": {},
          "execution_count": 22
        },
        {
          "output_type": "execute_result",
          "data": {
            "text/plain": [
              "{-3: 1, 0: 1, 3: 1}"
            ]
          },
          "metadata": {},
          "execution_count": 22
        },
        {
          "output_type": "execute_result",
          "data": {
            "text/plain": [
              "[(-3, 1, [Matrix([\n",
              "   [-1/2],\n",
              "   [   1],\n",
              "   [   1]])]), (0, 1, [Matrix([\n",
              "   [-2],\n",
              "   [-2],\n",
              "   [ 1]])]), (3, 1, [Matrix([\n",
              "   [   1],\n",
              "   [-1/2],\n",
              "   [   1]])])]"
            ]
          },
          "metadata": {},
          "execution_count": 22
        },
        {
          "output_type": "execute_result",
          "data": {
            "text/latex": "$\\displaystyle \\left[\\begin{matrix}1\\\\-0.5\\\\1\\end{matrix}\\right]$",
            "text/plain": [
              "Matrix([\n",
              "[   1],\n",
              "[-0.5],\n",
              "[   1]])"
            ]
          },
          "metadata": {},
          "execution_count": 22
        },
        {
          "output_type": "execute_result",
          "data": {
            "text/latex": "$\\displaystyle \\left[\\begin{matrix}-2\\\\-2\\\\1\\end{matrix}\\right]$",
            "text/plain": [
              "Matrix([\n",
              "[-2],\n",
              "[-2],\n",
              "[ 1]])"
            ]
          },
          "metadata": {},
          "execution_count": 22
        },
        {
          "output_type": "execute_result",
          "data": {
            "text/latex": "$\\displaystyle \\left[\\begin{matrix}-0.5\\\\1\\\\1\\end{matrix}\\right]$",
            "text/plain": [
              "Matrix([\n",
              "[-0.5],\n",
              "[   1],\n",
              "[   1]])"
            ]
          },
          "metadata": {},
          "execution_count": 22
        },
        {
          "output_type": "execute_result",
          "data": {
            "text/latex": "$\\displaystyle 0$",
            "text/plain": [
              "0"
            ]
          },
          "metadata": {},
          "execution_count": 22
        },
        {
          "output_type": "execute_result",
          "data": {
            "text/latex": "$\\displaystyle 0$",
            "text/plain": [
              "0"
            ]
          },
          "metadata": {},
          "execution_count": 22
        },
        {
          "output_type": "execute_result",
          "data": {
            "text/latex": "$\\displaystyle 0$",
            "text/plain": [
              "0"
            ]
          },
          "metadata": {},
          "execution_count": 22
        },
        {
          "output_type": "execute_result",
          "data": {
            "text/latex": "$\\displaystyle 0$",
            "text/plain": [
              "0"
            ]
          },
          "metadata": {},
          "execution_count": 22
        },
        {
          "output_type": "execute_result",
          "data": {
            "text/latex": "$\\displaystyle 0$",
            "text/plain": [
              "0"
            ]
          },
          "metadata": {},
          "execution_count": 22
        },
        {
          "output_type": "execute_result",
          "data": {
            "text/latex": "$\\displaystyle 0$",
            "text/plain": [
              "0"
            ]
          },
          "metadata": {},
          "execution_count": 22
        },
        {
          "output_type": "execute_result",
          "data": {
            "text/latex": "$\\displaystyle \\left[\\begin{matrix}0.666666666666667\\\\-0.333333333333333\\\\0.666666666666667\\end{matrix}\\right]$",
            "text/plain": [
              "Matrix([\n",
              "[ 0.666666666666667],\n",
              "[-0.333333333333333],\n",
              "[ 0.666666666666667]])"
            ]
          },
          "metadata": {},
          "execution_count": 22
        },
        {
          "output_type": "execute_result",
          "data": {
            "text/latex": "$\\displaystyle \\left[\\begin{matrix}- \\frac{2}{3}\\\\- \\frac{2}{3}\\\\\\frac{1}{3}\\end{matrix}\\right]$",
            "text/plain": [
              "Matrix([\n",
              "[-2/3],\n",
              "[-2/3],\n",
              "[ 1/3]])"
            ]
          },
          "metadata": {},
          "execution_count": 22
        },
        {
          "output_type": "execute_result",
          "data": {
            "text/latex": "$\\displaystyle \\left[\\begin{matrix}-0.333333333333333\\\\0.666666666666667\\\\0.666666666666667\\end{matrix}\\right]$",
            "text/plain": [
              "Matrix([\n",
              "[-0.333333333333333],\n",
              "[ 0.666666666666667],\n",
              "[ 0.666666666666667]])"
            ]
          },
          "metadata": {},
          "execution_count": 22
        },
        {
          "output_type": "stream",
          "name": "stdout",
          "text": [
            "Yes\n"
          ]
        },
        {
          "output_type": "execute_result",
          "data": {
            "text/latex": "$\\displaystyle \\left[\\begin{matrix}3.0 & 0 & 0\\\\0 & 0 & 0\\\\0 & 0 & -3.0\\end{matrix}\\right]$",
            "text/plain": [
              "Matrix([\n",
              "[3.0, 0,    0],\n",
              "[  0, 0,    0],\n",
              "[  0, 0, -3.0]])"
            ]
          },
          "metadata": {},
          "execution_count": 22
        }
      ]
    },
    {
      "cell_type": "markdown",
      "metadata": {
        "id": "NYQA-AHokLyV"
      },
      "source": [
        "# 4.5"
      ]
    },
    {
      "cell_type": "code",
      "metadata": {
        "colab": {
          "base_uri": "https://localhost:8080/",
          "height": 350
        },
        "id": "N4DpRZQJkPJB",
        "outputId": "b76952a0-143e-4d8b-8acf-bb7c12742992"
      },
      "source": [
        "A = Matrix([[1,0],[0,1]])\n",
        "A\n",
        "A.diagonalize()\n",
        "B = Matrix([[1,0],[0,0]])\n",
        "B\n",
        "B.diagonalize()\n",
        "C = Matrix([[1,1],[0,1]])\n",
        "C\n",
        "#C.diagonalize()\n",
        "D = Matrix([[0,1],[0,0]])\n",
        "D\n",
        "#D.diagonalize()"
      ],
      "execution_count": null,
      "outputs": [
        {
          "output_type": "execute_result",
          "data": {
            "text/latex": "$\\displaystyle \\left[\\begin{matrix}1 & 0\\\\0 & 1\\end{matrix}\\right]$",
            "text/plain": [
              "Matrix([\n",
              "[1, 0],\n",
              "[0, 1]])"
            ]
          },
          "metadata": {},
          "execution_count": 91
        },
        {
          "output_type": "execute_result",
          "data": {
            "text/plain": [
              "(Matrix([\n",
              " [1, 0],\n",
              " [0, 1]]), Matrix([\n",
              " [1, 0],\n",
              " [0, 1]]))"
            ]
          },
          "metadata": {},
          "execution_count": 91
        },
        {
          "output_type": "execute_result",
          "data": {
            "text/latex": "$\\displaystyle \\left[\\begin{matrix}1 & 0\\\\0 & 0\\end{matrix}\\right]$",
            "text/plain": [
              "Matrix([\n",
              "[1, 0],\n",
              "[0, 0]])"
            ]
          },
          "metadata": {},
          "execution_count": 91
        },
        {
          "output_type": "execute_result",
          "data": {
            "text/plain": [
              "(Matrix([\n",
              " [0, 1],\n",
              " [1, 0]]), Matrix([\n",
              " [0, 0],\n",
              " [0, 1]]))"
            ]
          },
          "metadata": {},
          "execution_count": 91
        },
        {
          "output_type": "execute_result",
          "data": {
            "text/latex": "$\\displaystyle \\left[\\begin{matrix}1 & 1\\\\0 & 1\\end{matrix}\\right]$",
            "text/plain": [
              "Matrix([\n",
              "[1, 1],\n",
              "[0, 1]])"
            ]
          },
          "metadata": {},
          "execution_count": 91
        },
        {
          "output_type": "execute_result",
          "data": {
            "text/latex": "$\\displaystyle \\left[\\begin{matrix}0 & 1\\\\0 & 0\\end{matrix}\\right]$",
            "text/plain": [
              "Matrix([\n",
              "[0, 1],\n",
              "[0, 0]])"
            ]
          },
          "metadata": {},
          "execution_count": 91
        }
      ]
    },
    {
      "cell_type": "markdown",
      "metadata": {
        "id": "zOkoOtHa6EGU"
      },
      "source": [
        "# 4.8"
      ]
    },
    {
      "cell_type": "code",
      "metadata": {
        "colab": {
          "base_uri": "https://localhost:8080/",
          "height": 953
        },
        "id": "mePoJ91K6IQL",
        "outputId": "7a601f29-1995-461c-f547-6e008ddf1556"
      },
      "source": [
        "A = Matrix([[3,2,2],[2,3,-2]])\n",
        "A\n",
        "B= A.transpose() * A\n",
        "B\n",
        "B.eigenvals()\n",
        "B.eigenvects()\n",
        "V1 = Matrix([[1],[1],[0]])\n",
        "V1.norm()\n",
        "V1= (1/sqrt(2)) * V1\n",
        "V1.normalized()\n",
        "V1\n",
        "V2 = Matrix([[1/4],[-1/4],[1]])\n",
        "V2.norm()\n",
        "V2= (sqrt(8)/3) * V2\n",
        "V2.normalized()\n",
        "V2\n",
        "V3 = Matrix([[-2],[2],[1]])\n",
        "V3 = (1/3) * V3\n",
        "V3\n",
        "V = Matrix([[1/(sqrt(2)),(sqrt(8)/12),(-2/3)],[1/(sqrt(2)),(-sqrt(8)/12),(2/3)],[0,(sqrt(8)/3),(1/3)]])\n",
        "V\n",
        "U1= A * V1\n",
        "U1 = (1/5) * U1\n",
        "U1\n",
        "U2 = A * V2\n",
        "U2 = (1/3) * U2\n",
        "U2\n",
        "U = Matrix([[1/(sqrt(2)),1/(sqrt(2))],[1/(sqrt(2)),-1/(sqrt(2))]])\n",
        "U\n",
        "S = Matrix([[5,0,0],[0,3,0]])\n",
        "S\n",
        "U * S * V.transpose()"
      ],
      "execution_count": null,
      "outputs": [
        {
          "output_type": "execute_result",
          "data": {
            "text/latex": "$\\displaystyle \\left[\\begin{matrix}3 & 2 & 2\\\\2 & 3 & -2\\end{matrix}\\right]$",
            "text/plain": [
              "Matrix([\n",
              "[3, 2,  2],\n",
              "[2, 3, -2]])"
            ]
          },
          "metadata": {},
          "execution_count": 12
        },
        {
          "output_type": "execute_result",
          "data": {
            "text/latex": "$\\displaystyle \\left[\\begin{matrix}13 & 12 & 2\\\\12 & 13 & -2\\\\2 & -2 & 8\\end{matrix}\\right]$",
            "text/plain": [
              "Matrix([\n",
              "[13, 12,  2],\n",
              "[12, 13, -2],\n",
              "[ 2, -2,  8]])"
            ]
          },
          "metadata": {},
          "execution_count": 12
        },
        {
          "output_type": "execute_result",
          "data": {
            "text/plain": [
              "{0: 1, 9: 1, 25: 1}"
            ]
          },
          "metadata": {},
          "execution_count": 12
        },
        {
          "output_type": "execute_result",
          "data": {
            "text/plain": [
              "[(0, 1, [Matrix([\n",
              "   [-2],\n",
              "   [ 2],\n",
              "   [ 1]])]), (9, 1, [Matrix([\n",
              "   [ 1/4],\n",
              "   [-1/4],\n",
              "   [   1]])]), (25, 1, [Matrix([\n",
              "   [1],\n",
              "   [1],\n",
              "   [0]])])]"
            ]
          },
          "metadata": {},
          "execution_count": 12
        },
        {
          "output_type": "execute_result",
          "data": {
            "text/latex": "$\\displaystyle \\sqrt{2}$",
            "text/plain": [
              "sqrt(2)"
            ]
          },
          "metadata": {},
          "execution_count": 12
        },
        {
          "output_type": "execute_result",
          "data": {
            "text/latex": "$\\displaystyle \\left[\\begin{matrix}\\frac{\\sqrt{2}}{2}\\\\\\frac{\\sqrt{2}}{2}\\\\0\\end{matrix}\\right]$",
            "text/plain": [
              "Matrix([\n",
              "[sqrt(2)/2],\n",
              "[sqrt(2)/2],\n",
              "[        0]])"
            ]
          },
          "metadata": {},
          "execution_count": 12
        },
        {
          "output_type": "execute_result",
          "data": {
            "text/latex": "$\\displaystyle \\left[\\begin{matrix}\\frac{\\sqrt{2}}{2}\\\\\\frac{\\sqrt{2}}{2}\\\\0\\end{matrix}\\right]$",
            "text/plain": [
              "Matrix([\n",
              "[sqrt(2)/2],\n",
              "[sqrt(2)/2],\n",
              "[        0]])"
            ]
          },
          "metadata": {},
          "execution_count": 12
        },
        {
          "output_type": "execute_result",
          "data": {
            "text/latex": "$\\displaystyle 1.06066017177982$",
            "text/plain": [
              "1.06066017177982"
            ]
          },
          "metadata": {},
          "execution_count": 12
        },
        {
          "output_type": "execute_result",
          "data": {
            "text/latex": "$\\displaystyle \\left[\\begin{matrix}0.166666666666667 \\sqrt{2}\\\\- 0.166666666666667 \\sqrt{2}\\\\0.666666666666667 \\sqrt{2}\\end{matrix}\\right]$",
            "text/plain": [
              "Matrix([\n",
              "[ 0.166666666666667*sqrt(2)],\n",
              "[-0.166666666666667*sqrt(2)],\n",
              "[ 0.666666666666667*sqrt(2)]])"
            ]
          },
          "metadata": {},
          "execution_count": 12
        },
        {
          "output_type": "execute_result",
          "data": {
            "text/latex": "$\\displaystyle \\left[\\begin{matrix}0.166666666666667 \\sqrt{2}\\\\- 0.166666666666667 \\sqrt{2}\\\\\\frac{2 \\sqrt{2}}{3}\\end{matrix}\\right]$",
            "text/plain": [
              "Matrix([\n",
              "[ 0.166666666666667*sqrt(2)],\n",
              "[-0.166666666666667*sqrt(2)],\n",
              "[               2*sqrt(2)/3]])"
            ]
          },
          "metadata": {},
          "execution_count": 12
        },
        {
          "output_type": "execute_result",
          "data": {
            "text/latex": "$\\displaystyle \\left[\\begin{matrix}-0.666666666666667\\\\0.666666666666667\\\\0.333333333333333\\end{matrix}\\right]$",
            "text/plain": [
              "Matrix([\n",
              "[-0.666666666666667],\n",
              "[ 0.666666666666667],\n",
              "[ 0.333333333333333]])"
            ]
          },
          "metadata": {},
          "execution_count": 12
        },
        {
          "output_type": "execute_result",
          "data": {
            "text/latex": "$\\displaystyle \\left[\\begin{matrix}\\frac{\\sqrt{2}}{2} & \\frac{\\sqrt{2}}{6} & -0.666666666666667\\\\\\frac{\\sqrt{2}}{2} & - \\frac{\\sqrt{2}}{6} & 0.666666666666667\\\\0 & \\frac{2 \\sqrt{2}}{3} & 0.333333333333333\\end{matrix}\\right]$",
            "text/plain": [
              "Matrix([\n",
              "[sqrt(2)/2,   sqrt(2)/6, -0.666666666666667],\n",
              "[sqrt(2)/2,  -sqrt(2)/6,  0.666666666666667],\n",
              "[        0, 2*sqrt(2)/3,  0.333333333333333]])"
            ]
          },
          "metadata": {},
          "execution_count": 12
        },
        {
          "output_type": "execute_result",
          "data": {
            "text/latex": "$\\displaystyle \\left[\\begin{matrix}0.5 \\sqrt{2}\\\\0.5 \\sqrt{2}\\end{matrix}\\right]$",
            "text/plain": [
              "Matrix([\n",
              "[0.5*sqrt(2)],\n",
              "[0.5*sqrt(2)]])"
            ]
          },
          "metadata": {},
          "execution_count": 12
        },
        {
          "output_type": "execute_result",
          "data": {
            "text/latex": "$\\displaystyle \\left[\\begin{matrix}0.5 \\sqrt{2}\\\\- 0.5 \\sqrt{2}\\end{matrix}\\right]$",
            "text/plain": [
              "Matrix([\n",
              "[ 0.5*sqrt(2)],\n",
              "[-0.5*sqrt(2)]])"
            ]
          },
          "metadata": {},
          "execution_count": 12
        },
        {
          "output_type": "execute_result",
          "data": {
            "text/latex": "$\\displaystyle \\left[\\begin{matrix}\\frac{\\sqrt{2}}{2} & \\frac{\\sqrt{2}}{2}\\\\\\frac{\\sqrt{2}}{2} & - \\frac{\\sqrt{2}}{2}\\end{matrix}\\right]$",
            "text/plain": [
              "Matrix([\n",
              "[sqrt(2)/2,  sqrt(2)/2],\n",
              "[sqrt(2)/2, -sqrt(2)/2]])"
            ]
          },
          "metadata": {},
          "execution_count": 12
        },
        {
          "output_type": "execute_result",
          "data": {
            "text/latex": "$\\displaystyle \\left[\\begin{matrix}5 & 0 & 0\\\\0 & 3 & 0\\end{matrix}\\right]$",
            "text/plain": [
              "Matrix([\n",
              "[5, 0, 0],\n",
              "[0, 3, 0]])"
            ]
          },
          "metadata": {},
          "execution_count": 12
        },
        {
          "output_type": "execute_result",
          "data": {
            "text/latex": "$\\displaystyle \\left[\\begin{matrix}3 & 2 & 2\\\\2 & 3 & -2\\end{matrix}\\right]$",
            "text/plain": [
              "Matrix([\n",
              "[3, 2,  2],\n",
              "[2, 3, -2]])"
            ]
          },
          "metadata": {},
          "execution_count": 12
        }
      ]
    },
    {
      "cell_type": "markdown",
      "metadata": {
        "id": "8YO4hmINQqgg"
      },
      "source": [
        "# 4.9"
      ]
    },
    {
      "cell_type": "code",
      "metadata": {
        "colab": {
          "base_uri": "https://localhost:8080/",
          "height": 558
        },
        "id": "Puw0cIEZEPKC",
        "outputId": "889910be-af68-4ba3-eee3-05a58055f340"
      },
      "source": [
        "A = Matrix ([[2,2],[-1,1]])\n",
        "A\n",
        "B= A.transpose() * A\n",
        "B\n",
        "B.eigenvals()\n",
        "B.eigenvects()\n",
        "V1 = Matrix([[1/(sqrt(2))],[1/(sqrt(2))]])\n",
        "V1\n",
        "V2 = Matrix([[-1/(sqrt(2))],[1/(sqrt(2))]])\n",
        "V2\n",
        "V = Matrix([[1/(sqrt(2)),-1/(sqrt(2))],[1/(sqrt(2)),1/(sqrt(2))]])\n",
        "V\n",
        "U1 = A * V1\n",
        "U1 = (1/(sqrt(8))) * U1\n",
        "U1\n",
        "U2 = A * V2\n",
        "U2 = (1/sqrt(2)) * U2\n",
        "U2\n",
        "U = Matrix([[1,0],[0,1]])\n",
        "U\n",
        "S = Matrix([[sqrt(8),0],[0,sqrt(2)]])\n",
        "S\n",
        "U * S * V.transpose()"
      ],
      "execution_count": null,
      "outputs": [
        {
          "output_type": "execute_result",
          "data": {
            "text/latex": "$\\displaystyle \\left[\\begin{matrix}2 & 2\\\\-1 & 1\\end{matrix}\\right]$",
            "text/plain": [
              "Matrix([\n",
              "[ 2, 2],\n",
              "[-1, 1]])"
            ]
          },
          "metadata": {},
          "execution_count": 72
        },
        {
          "output_type": "execute_result",
          "data": {
            "text/plain": [
              "2"
            ]
          },
          "metadata": {},
          "execution_count": 72
        },
        {
          "output_type": "execute_result",
          "data": {
            "text/latex": "$\\displaystyle \\left[\\begin{matrix}5 & 3\\\\3 & 5\\end{matrix}\\right]$",
            "text/plain": [
              "Matrix([\n",
              "[5, 3],\n",
              "[3, 5]])"
            ]
          },
          "metadata": {},
          "execution_count": 72
        },
        {
          "output_type": "execute_result",
          "data": {
            "text/plain": [
              "{2: 1, 8: 1}"
            ]
          },
          "metadata": {},
          "execution_count": 72
        },
        {
          "output_type": "execute_result",
          "data": {
            "text/plain": [
              "[(2, 1, [Matrix([\n",
              "   [-1],\n",
              "   [ 1]])]), (8, 1, [Matrix([\n",
              "   [1],\n",
              "   [1]])])]"
            ]
          },
          "metadata": {},
          "execution_count": 72
        },
        {
          "output_type": "execute_result",
          "data": {
            "text/latex": "$\\displaystyle \\left[\\begin{matrix}\\frac{\\sqrt{2}}{2}\\\\\\frac{\\sqrt{2}}{2}\\end{matrix}\\right]$",
            "text/plain": [
              "Matrix([\n",
              "[sqrt(2)/2],\n",
              "[sqrt(2)/2]])"
            ]
          },
          "metadata": {},
          "execution_count": 72
        },
        {
          "output_type": "execute_result",
          "data": {
            "text/latex": "$\\displaystyle \\left[\\begin{matrix}- \\frac{\\sqrt{2}}{2}\\\\\\frac{\\sqrt{2}}{2}\\end{matrix}\\right]$",
            "text/plain": [
              "Matrix([\n",
              "[-sqrt(2)/2],\n",
              "[ sqrt(2)/2]])"
            ]
          },
          "metadata": {},
          "execution_count": 72
        },
        {
          "output_type": "execute_result",
          "data": {
            "text/latex": "$\\displaystyle \\left[\\begin{matrix}\\frac{\\sqrt{2}}{2} & - \\frac{\\sqrt{2}}{2}\\\\\\frac{\\sqrt{2}}{2} & \\frac{\\sqrt{2}}{2}\\end{matrix}\\right]$",
            "text/plain": [
              "Matrix([\n",
              "[sqrt(2)/2, -sqrt(2)/2],\n",
              "[sqrt(2)/2,  sqrt(2)/2]])"
            ]
          },
          "metadata": {},
          "execution_count": 72
        },
        {
          "output_type": "execute_result",
          "data": {
            "text/latex": "$\\displaystyle \\left[\\begin{matrix}1\\\\0\\end{matrix}\\right]$",
            "text/plain": [
              "Matrix([\n",
              "[1],\n",
              "[0]])"
            ]
          },
          "metadata": {},
          "execution_count": 72
        },
        {
          "output_type": "execute_result",
          "data": {
            "text/latex": "$\\displaystyle \\left[\\begin{matrix}0\\\\1\\end{matrix}\\right]$",
            "text/plain": [
              "Matrix([\n",
              "[0],\n",
              "[1]])"
            ]
          },
          "metadata": {},
          "execution_count": 72
        },
        {
          "output_type": "execute_result",
          "data": {
            "text/latex": "$\\displaystyle \\left[\\begin{matrix}1 & 0\\\\0 & 1\\end{matrix}\\right]$",
            "text/plain": [
              "Matrix([\n",
              "[1, 0],\n",
              "[0, 1]])"
            ]
          },
          "metadata": {},
          "execution_count": 72
        },
        {
          "output_type": "execute_result",
          "data": {
            "text/latex": "$\\displaystyle \\left[\\begin{matrix}2 \\sqrt{2} & 0\\\\0 & \\sqrt{2}\\end{matrix}\\right]$",
            "text/plain": [
              "Matrix([\n",
              "[2*sqrt(2),       0],\n",
              "[        0, sqrt(2)]])"
            ]
          },
          "metadata": {},
          "execution_count": 72
        },
        {
          "output_type": "execute_result",
          "data": {
            "text/latex": "$\\displaystyle \\left[\\begin{matrix}2 & 2\\\\-1 & 1\\end{matrix}\\right]$",
            "text/plain": [
              "Matrix([\n",
              "[ 2, 2],\n",
              "[-1, 1]])"
            ]
          },
          "metadata": {},
          "execution_count": 72
        }
      ]
    },
    {
      "cell_type": "markdown",
      "metadata": {
        "id": "IhgGYofWXPNh"
      },
      "source": [
        "# 4.10"
      ]
    },
    {
      "cell_type": "code",
      "metadata": {
        "colab": {
          "base_uri": "https://localhost:8080/",
          "height": 360
        },
        "id": "IQj0wzw0XSDe",
        "outputId": "55d2bbf1-4600-4d6b-f192-4b80891d4b8d"
      },
      "source": [
        "A = Matrix([[3,2,2],[2,3,-2]])\n",
        "A\n",
        "A.rank()\n",
        "U1 = Matrix([[1/(sqrt(2))],[1/(sqrt(2))]])\n",
        "U1\n",
        "V1 = Matrix([[1/(sqrt(2))],[1/(sqrt(2))],[0]])\n",
        "V1.transpose()\n",
        "A1 = U1 * V1.transpose()\n",
        "A1\n",
        "U2 = Matrix([[1/(sqrt(2))],[-1/(sqrt(2))]])\n",
        "U2\n",
        "V2 = Matrix([[(sqrt(8)/12)],[(-sqrt(8)/12)],[(sqrt(8)/3)]])\n",
        "V2.transpose()\n",
        "A2 = U2 * V2.transpose()\n",
        "A2\n",
        "AR2 = (5 * A1) + (3 * A2)\n",
        "AR2"
      ],
      "execution_count": null,
      "outputs": [
        {
          "output_type": "execute_result",
          "data": {
            "text/latex": "$\\displaystyle \\left[\\begin{matrix}3 & 2 & 2\\\\2 & 3 & -2\\end{matrix}\\right]$",
            "text/plain": [
              "Matrix([\n",
              "[3, 2,  2],\n",
              "[2, 3, -2]])"
            ]
          },
          "metadata": {},
          "execution_count": 81
        },
        {
          "output_type": "execute_result",
          "data": {
            "text/plain": [
              "2"
            ]
          },
          "metadata": {},
          "execution_count": 81
        },
        {
          "output_type": "execute_result",
          "data": {
            "text/latex": "$\\displaystyle \\left[\\begin{matrix}\\frac{\\sqrt{2}}{2}\\\\\\frac{\\sqrt{2}}{2}\\end{matrix}\\right]$",
            "text/plain": [
              "Matrix([\n",
              "[sqrt(2)/2],\n",
              "[sqrt(2)/2]])"
            ]
          },
          "metadata": {},
          "execution_count": 81
        },
        {
          "output_type": "execute_result",
          "data": {
            "text/latex": "$\\displaystyle \\left[\\begin{matrix}\\frac{\\sqrt{2}}{2} & \\frac{\\sqrt{2}}{2} & 0\\end{matrix}\\right]$",
            "text/plain": [
              "Matrix([[sqrt(2)/2, sqrt(2)/2, 0]])"
            ]
          },
          "metadata": {},
          "execution_count": 81
        },
        {
          "output_type": "execute_result",
          "data": {
            "text/latex": "$\\displaystyle \\left[\\begin{matrix}\\frac{1}{2} & \\frac{1}{2} & 0\\\\\\frac{1}{2} & \\frac{1}{2} & 0\\end{matrix}\\right]$",
            "text/plain": [
              "Matrix([\n",
              "[1/2, 1/2, 0],\n",
              "[1/2, 1/2, 0]])"
            ]
          },
          "metadata": {},
          "execution_count": 81
        },
        {
          "output_type": "execute_result",
          "data": {
            "text/latex": "$\\displaystyle \\left[\\begin{matrix}\\frac{\\sqrt{2}}{2}\\\\- \\frac{\\sqrt{2}}{2}\\end{matrix}\\right]$",
            "text/plain": [
              "Matrix([\n",
              "[ sqrt(2)/2],\n",
              "[-sqrt(2)/2]])"
            ]
          },
          "metadata": {},
          "execution_count": 81
        },
        {
          "output_type": "execute_result",
          "data": {
            "text/latex": "$\\displaystyle \\left[\\begin{matrix}\\frac{\\sqrt{2}}{6} & - \\frac{\\sqrt{2}}{6} & \\frac{2 \\sqrt{2}}{3}\\end{matrix}\\right]$",
            "text/plain": [
              "Matrix([[sqrt(2)/6, -sqrt(2)/6, 2*sqrt(2)/3]])"
            ]
          },
          "metadata": {},
          "execution_count": 81
        },
        {
          "output_type": "execute_result",
          "data": {
            "text/latex": "$\\displaystyle \\left[\\begin{matrix}\\frac{1}{6} & - \\frac{1}{6} & \\frac{2}{3}\\\\- \\frac{1}{6} & \\frac{1}{6} & - \\frac{2}{3}\\end{matrix}\\right]$",
            "text/plain": [
              "Matrix([\n",
              "[ 1/6, -1/6,  2/3],\n",
              "[-1/6,  1/6, -2/3]])"
            ]
          },
          "metadata": {},
          "execution_count": 81
        },
        {
          "output_type": "execute_result",
          "data": {
            "text/latex": "$\\displaystyle \\left[\\begin{matrix}3 & 2 & 2\\\\2 & 3 & -2\\end{matrix}\\right]$",
            "text/plain": [
              "Matrix([\n",
              "[3, 2,  2],\n",
              "[2, 3, -2]])"
            ]
          },
          "metadata": {},
          "execution_count": 81
        }
      ]
    }
  ]
}